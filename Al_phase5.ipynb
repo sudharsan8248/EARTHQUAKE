{
  "cells": [
    {
      "cell_type": "markdown",
      "metadata": {
        "id": "view-in-github",
        "colab_type": "text"
      },
      "source": [
        "<a href=\"https://colab.research.google.com/github/Vighnesh95/Earthquake-Forecasting-using-Machine-Learning/blob/main/Earthquake_Forecasting.ipynb\" target=\"_parent\"><img src=\"https://colab.research.google.com/assets/colab-badge.svg\" alt=\"Open In Colab\"/></a>"
      ]
    },
    {
      "cell_type": "code",
      "execution_count": null,
      "metadata": {
        "id": "g3LnUsBGmNB6",
        "colab": {
          "base_uri": "https://localhost:8080/",
          "height": 1000
        },
        "outputId": "46f11078-43db-483f-f39a-a8c3ac03b9f8"
      },
      "outputs": [
        {
          "output_type": "stream",
          "name": "stdout",
          "text": [
            "                       time  latitude  longitude  depth  mag magType    nst  \\\n",
            "0  2009-12-31T09:57:29.720Z    27.319     91.510   10.0  5.5      mb  205.0   \n",
            "1  2009-12-29T13:33:22.870Z    35.017     73.005   63.8  4.0      mb   40.0   \n",
            "2  2009-12-29T09:01:55.310Z    24.357     94.807  124.8  5.6     mwb  206.0   \n",
            "3  2009-12-28T02:15:04.870Z    30.686     83.769   10.0  4.4      mb   50.0   \n",
            "4  2009-12-26T00:23:38.570Z    14.001     92.862   42.6  5.0      mb  117.0   \n",
            "\n",
            "    gap  dmin   rms net          id                   updated  \\\n",
            "0  37.4   NaN  0.89  us  usp000h5j5  2017-04-26T18:09:55.932Z   \n",
            "1  95.8   NaN  0.94  us  usp000h5fh  2014-11-07T01:40:19.294Z   \n",
            "2  17.3   NaN  0.77  us  usp000h5f4  2016-11-10T02:22:03.905Z   \n",
            "3  40.6   NaN  1.08  us  usp000h5e0  2014-11-07T01:40:19.031Z   \n",
            "4  68.1   NaN  0.82  us  usp000h5c9  2014-11-07T01:40:18.641Z   \n",
            "\n",
            "                           place        type  horizontalError  depthError  \\\n",
            "0                         Bhutan  earthquake              NaN         NaN   \n",
            "1           northwestern Kashmir  earthquake              NaN         8.6   \n",
            "2    Myanmar-India border region  earthquake              NaN         NaN   \n",
            "3                 western Xizang  earthquake              NaN         NaN   \n",
            "4  Andaman Islands, India region  earthquake              NaN         5.7   \n",
            "\n",
            "   magError  magNst    status locationSource magSource  \n",
            "0       NaN   118.0  reviewed             us        us  \n",
            "1       NaN     7.0  reviewed             us        us  \n",
            "2       NaN     NaN  reviewed             us        us  \n",
            "3       NaN     9.0  reviewed             us        us  \n",
            "4       NaN    56.0  reviewed             us        us  \n",
            "(14698, 22)\n",
            "<class 'pandas.core.frame.DataFrame'>\n",
            "RangeIndex: 14698 entries, 0 to 14697\n",
            "Data columns (total 22 columns):\n",
            " #   Column           Non-Null Count  Dtype  \n",
            "---  ------           --------------  -----  \n",
            " 0   time             14698 non-null  object \n",
            " 1   latitude         14698 non-null  float64\n",
            " 2   longitude        14698 non-null  float64\n",
            " 3   depth            14698 non-null  float64\n",
            " 4   mag              14698 non-null  float64\n",
            " 5   magType          14698 non-null  object \n",
            " 6   nst              11841 non-null  float64\n",
            " 7   gap              12978 non-null  float64\n",
            " 8   dmin             2694 non-null   float64\n",
            " 9   rms              14691 non-null  float64\n",
            " 10  net              14698 non-null  object \n",
            " 11  id               14698 non-null  object \n",
            " 12  updated          14698 non-null  object \n",
            " 13  place            14698 non-null  object \n",
            " 14  type             14698 non-null  object \n",
            " 15  horizontalError  2073 non-null   float64\n",
            " 16  depthError       6755 non-null   float64\n",
            " 17  magError         2647 non-null   float64\n",
            " 18  magNst           13266 non-null  float64\n",
            " 19  status           14698 non-null  object \n",
            " 20  locationSource   14698 non-null  object \n",
            " 21  magSource        14698 non-null  object \n",
            "dtypes: float64(12), object(10)\n",
            "memory usage: 2.5+ MB\n",
            "None\n",
            "           latitude     longitude         depth          mag           nst  \\\n",
            "count  14698.000000  14698.000000  14698.000000  14698.00000  11841.000000   \n",
            "mean      23.232205     84.788693     54.503866      4.38346     45.570307   \n",
            "std       12.368081     10.296638     58.584940      0.49437     67.835233   \n",
            "min        4.056300     67.677000      0.600000      2.90000      4.000000   \n",
            "25%        9.479500     72.120250     13.300000      4.10000     14.000000   \n",
            "50%       27.715050     91.318000     30.000000      4.40000     22.000000   \n",
            "75%       35.439750     93.994000     62.700000      4.60000     44.000000   \n",
            "max       37.171400     97.905400    400.570000      7.80000    728.000000   \n",
            "\n",
            "                gap         dmin           rms  horizontalError   depthError  \\\n",
            "count  12978.000000  2694.000000  14691.000000      2073.000000  6755.000000   \n",
            "mean     120.561828     2.481249      0.930832         7.714134    11.096269   \n",
            "std       55.755627     2.248574      0.251177         2.534278     9.233790   \n",
            "min       10.000000     0.027000      0.020000         2.400000     0.000000   \n",
            "25%       77.800000     0.797000      0.770000         6.100000     5.400000   \n",
            "50%      109.000000     1.898500      0.920000         7.300000     8.500000   \n",
            "75%      166.400000     3.431000      1.100000         8.900000    14.400000   \n",
            "max      332.900000    33.178000      1.980000        23.400000    72.300000   \n",
            "\n",
            "          magError        magNst  \n",
            "count  2647.000000  13266.000000  \n",
            "mean      0.138383     14.629730  \n",
            "std       0.072427     24.271391  \n",
            "min       0.000000      1.000000  \n",
            "25%       0.084500      3.000000  \n",
            "50%       0.124000      6.000000  \n",
            "75%       0.175000     16.000000  \n",
            "max       0.539000    328.000000  \n"
          ]
        },
        {
          "output_type": "display_data",
          "data": {
            "text/plain": [
              "<Figure size 720x360 with 1 Axes>"
            ],
            "image/png": "[encoded data removed]"
          },
          "metadata": {
            "needs_background": "light"
          }
        },
        {
          "output_type": "display_data",
          "data": {
            "text/plain": [
              "<Figure size 720x360 with 1 Axes>"
            ],
            "image/png": "[encoded data removed]"
          },
          "metadata": {
            "needs_background": "light"
          }
        },
        {
          "output_type": "display_data",
          "data": {
            "text/plain": [
              "<Figure size 720x360 with 1 Axes>"
            ],
            "image/png": "[encoded data removed]"
          },
          "metadata": {
            "needs_background": "light"
          }
        },
        {
          "output_type": "display_data",
          "data": {
            "text/plain": [
              "<Figure size 720x360 with 1 Axes>"
            ],
            "image/png": "[encoded data removed]"
          },
          "metadata": {
            "needs_background": "light"
          }
        },
        {
          "output_type": "display_data",
          "data": {
            "text/plain": [
              "<Figure size 720x360 with 1 Axes>"
            ],
            "image/png": "[encoded data removed]"
          },
          "metadata": {
            "needs_background": "light"
          }
        },
        {
          "output_type": "display_data",
          "data": {
            "text/plain": [
              "<Figure size 720x432 with 3 Axes>"
            ],
            "image/png": "[encoded data removed]"
          },
          "metadata": {
            "needs_background": "light"
          }
        }
      ],
      "source": [
        "from numpy.lib.arraysetops import unique\n",
        "import numpy as np\n",
        "import pandas as pd\n",
        "from sklearn.preprocessing import StandardScaler\n",
        "from sklearn.model_selection import GridSearchCV\n",
        "from sklearn.linear_model import SGDRegressor\n",
        "import plotly.graph_objs as gg\n",
        "from sklearn.model_selection import train_test_split\n",
        "from sklearn.linear_model import LinearRegression, LogisticRegression\n",
        "import seaborn as sns\n",
        "import matplotlib.pyplot as plt\n",
        "%matplotlib inline\n",
        "from sklearn.ensemble import RandomForestRegressor, GradientBoostingRegressor\n",
        "from lightgbm import LGBMRegressor\n",
        "from xgboost.sklearn import XGBRegressor\n",
        "from sklearn.multioutput import MultiOutputRegressor\n",
        "import warnings\n",
        "from sklearn.metrics import mean_squared_error\n",
        "import matplotlib.pyplot as plot\n",
        "import seaborn as sns\n",
        "\n",
        "# Importing dataset and examining it\n",
        "dataset = pd.read_csv(\"/content/Earthquake_dataset.csv\")\n",
        "pd.set_option('display.max_columns', None) # to make sure you can see all the columns in output window\n",
        "print(dataset.head())\n",
        "print(dataset.shape)\n",
        "print(dataset.info())\n",
        "print(dataset.describe())\n",
        "\n",
        "# creating our subplot\n",
        "plt.subplots(figsize=(10, 5))\n",
        "sns.histplot(x='mag', data=dataset)\n",
        "plt.show()\n",
        "plt.subplots(figsize=(10, 5))\n",
        "sns.histplot(x='nst', data=dataset)\n",
        "plt.show()\n",
        "plt.subplots(figsize=(10, 5))\n",
        "sns.histplot(x='rms', data=dataset)\n",
        "plt.show()\n",
        "plt.subplots(figsize=(10, 5))\n",
        "sns.histplot(x='depth', data=dataset)\n",
        "plt.show()\n",
        "plt.subplots(figsize=(10, 5))\n",
        "sns.histplot(x='gap', data=dataset)\n",
        "plt.show()\n",
        "\n",
        "# initialize figure with 3 subplots in a row\n",
        "fig, ax = plt.subplots(1, 3, figsize=(10, 6))\n",
        "\n",
        "# add padding between the subplots\n",
        "plt.subplots_adjust(wspace=0.5) \n",
        "\n",
        "# draw boxplot for nst in the 1st subplot\n",
        "sns.boxplot(data=dataset['nst'], ax=ax[0], color='brown',)\n",
        "ax[0].set_xlabel('nst')\n",
        "\n",
        "# draw boxplot for gap in the 2nd subplot\n",
        "sns.boxplot(data=dataset['gap'], ax=ax[1], color='g')\n",
        "ax[1].set_xlabel('gap')\n",
        "\n",
        "# draw boxplot for rms in the 3rd subplot\n",
        "sns.boxplot(data=dataset['rms'], ax=ax[2], color='y')\n",
        "ax[2].set_xlabel('rms')\n",
        "\n",
        "\n",
        "# by default, you'll see x-tick label set to 0 in each subplot\n",
        "# remove it by setting it to empty list\n",
        "for subplot in ax:\n",
        "    subplot.set_xticklabels([])\n",
        "    \n",
        "plt.show()\n",
        "\n",
        "dataset['nst'].replace({\"\":np.nan}, inplace=True)\n",
        "dataset['nst'].fillna(dataset['nst'].mode().iloc[0], inplace=True)\n",
        "\n",
        "dataset['gap'].replace({\"\":np.nan}, inplace=True)\n",
        "dataset['gap'].fillna(dataset['gap'].mode().iloc[0], inplace=True)\n",
        "\n",
        "dataset['rms'].replace({\"\":np.nan}, inplace=True)\n",
        "dataset['rms'].fillna(dataset['rms'].mode().iloc[0], inplace=True)\n",
        "\n",
        "import re\n",
        "lst = []\n",
        "for i in dataset['place']:\n",
        "  new = re.sub('^(.*of )',\"\", i)\n",
        "  lst.append(new)\n",
        "\n",
        "set1 = set(lst)\n",
        "dataset['place'] = lst\n",
        "\n",
        "df = pd.get_dummies(dataset, columns = ['place'])\n",
        "\n",
        "X = df.drop(['time','latitude','longitude','mag','magType','dmin','net','id','updated','type','horizontalError','depthError','magError','magNst','status','locationSource','magSource'], axis = 1) \n",
        "y= df[['mag']]\n",
        "\n",
        "# Train test splitting\n",
        "X_data, X_test, y_data, y_test = train_test_split(X, y,test_size=0.2,random_state=13)\n",
        "\n",
        "# Creating a validation set\n",
        "X_train, X_val, y_train, y_val = train_test_split(X_data, y_data,test_size=0.2,random_state=13)\n",
        "\n",
        "\n"
      ]
    },
    {
      "cell_type": "code",
      "execution_count": null,
      "metadata": {
        "colab": {
          "base_uri": "https://localhost:8080/"
        },
        "id": "EynP1dA2HJAC",
        "outputId": "c12975a1-6882-4993-d664-2da2fcf23b69"
      },
      "outputs": [
        {
          "output_type": "stream",
          "name": "stdout",
          "text": [
            "[14:37:46] WARNING: /workspace/src/objective/regression_obj.cu:152: reg:linear is now deprecated in favor of reg:squarederror.\n"
          ]
        },
        {
          "output_type": "execute_result",
          "data": {
            "text/plain": [
              "0.6430532290271989"
            ]
          },
          "metadata": {},
          "execution_count": 2
        }
      ],
      "source": [
        "xgb_reg=XGBRegressor(random_state=1)\n",
        "xgb_reg.fit(X_train,y_train)\n",
        "xgb_reg.score(X_val,y_val)"
      ]
    },
    {
      "cell_type": "code",
      "execution_count": null,
      "metadata": {
        "colab": {
          "base_uri": "https://localhost:8080/"
        },
        "id": "eocwCWq6Jo5t",
        "outputId": "eb39a1c8-a6ac-4a49-ccfc-6fc5510ee739"
      },
      "outputs": [
        {
          "output_type": "stream",
          "name": "stderr",
          "text": [
            "<ipython-input-20-27c23ca05f5d>:2: DataConversionWarning: A column-vector y was passed when a 1d array was expected. Please change the shape of y to (n_samples,), for example using ravel().\n",
            "  RF_reg.fit(X_train, y_train)\n"
          ]
        },
        {
          "output_type": "execute_result",
          "data": {
            "text/plain": [
              "0.5713300722735477"
            ]
          },
          "metadata": {},
          "execution_count": 20
        }
      ],
      "source": [
        "RF_reg = RandomForestRegressor(n_estimators=150,max_depth=5,min_samples_leaf=3, random_state=13)\n",
        "RF_reg.fit(X_train, y_train)\n",
        "RF_reg.score(X_val, y_val)"
      ]
    },
    {
      "cell_type": "code",
      "execution_count": null,
      "metadata": {
        "colab": {
          "base_uri": "https://localhost:8080/"
        },
        "id": "38j7XgPsCwZL",
        "outputId": "075bde9a-8525-4093-d78c-a54e0f17be30"
      },
      "outputs": [
        {
          "output_type": "execute_result",
          "data": {
            "text/plain": [
              "-0.0037274374600508864"
            ]
          },
          "metadata": {},
          "execution_count": 18
        }
      ],
      "source": [
        "multi_reg=MultiOutputRegressor(GradientBoostingRegressor(random_state=13,loss='quantile')).fit(X_train, y_train)\n",
        "multi_reg.score(X_val, y_val)"
      ]
    },
    {
      "cell_type": "code",
      "execution_count": null,
      "metadata": {
        "colab": {
          "base_uri": "https://localhost:8080/"
        },
        "id": "xWVd-Mm2DWbi",
        "outputId": "71b6b955-8cd5-4eff-afc5-a6cd7c8e5506"
      },
      "outputs": [
        {
          "output_type": "execute_result",
          "data": {
            "text/plain": [
              "0.6705634061754238"
            ]
          },
          "metadata": {},
          "execution_count": 19
        }
      ],
      "source": [
        "lgbm_reg= MultiOutputRegressor(LGBMRegressor(random_state=13))\n",
        "lgbm_reg.fit(X_train,y_train)\n",
        "lgbm_reg.score(X_val,y_val)"
      ]
    },
    {
      "cell_type": "code",
      "execution_count": null,
      "metadata": {
        "id": "ypOGQ6BiDq7l"
      },
      "outputs": [],
      "source": [
        "# Function definition for grid searches over my 4 models: Random Forest Regressor, Gradient Boost Regressor, Light GBM Regressor, and XGB Regressor\n",
        "\n",
        "def Grid_Search_CV_RFR(X_train, y_train):\n",
        "\n",
        "        '''Outputs the best parameters and best score of a gridsearch over several RandomForestRegressor hyperparameters.'''\n",
        "\n",
        "        # Instantiating a Random Forest Regressor\n",
        "        estimator = RandomForestRegressor(random_state=13)\n",
        "\n",
        "        # Setting up the parameter grid I wish to test\n",
        "        param_grid = { \n",
        "\n",
        "            'n_estimators'      : [150,200,205,210],\n",
        "            'max_features'      : ['auto', 'sqrt', 'log2'],\n",
        "            'min_samples_split' : [18,19,20,21,22,23],\n",
        "            'bootstrap'         : [True, False],\n",
        "            }\n",
        "\n",
        "        # Instatiating the grid search\n",
        "        grid = GridSearchCV(estimator, param_grid, n_jobs=-1, cv=5)\n",
        "\n",
        "        # Fitting Grid search to my data\n",
        "        grid.fit(X_train, y_train)\n",
        "\n",
        "        # Returning the best parameters for my data\n",
        "        return grid.best_params_\n",
        "\n",
        "\n",
        "def Grid_Search_CV_GBR(X_train, y_train):\n",
        "\n",
        "        '''Outputs the best parameters and best score of a gridsearch over several Gradient Boost Regressor hyperparameters.'''\n",
        "\n",
        "        # Instantiating a Gradient Boost Regressor\n",
        "        estimator = MultiOutputRegressor(GradientBoostingRegressor(random_state=13,criterion='mse',subsample=0.95))\n",
        "\n",
        "        # Setting up the parameter grid I wish to test\n",
        "        param_grid = {\n",
        "             \n",
        "            'estimator__n_estimators'      : [110,150,180,200,300,400,500,550],\n",
        "            'estimator__learning_rate'     : [.01,.05,.1,.5],\n",
        "            'estimator__min_samples_split' : [2,3,4],\n",
        "            'estimator__min_samples_leaf'  : [3,4,5,6,7],\n",
        "            'estimator__max_depth'         : [4,5,6,7],\n",
        "            }\n",
        "\n",
        "        # Instatiating the grid search\n",
        "        grid = GridSearchCV(estimator, param_grid, n_jobs=-1, cv=5)\n",
        "\n",
        "        # Fitting Grid search to my data\n",
        "        grid.fit(X_train, y_train)\n",
        "\n",
        "        # Returning the best parameters for my data\n",
        "        return grid.best_params_\n",
        "\n",
        "\n",
        "def Grid_Search_CV_LGBMR(X_train, y_train):\n",
        "\n",
        "        '''Outputs the best parameters and best score of a gridsearch over several LightGBM Regressor hyperparameters.'''\n",
        "\n",
        "        # Instantiating a LightGBM Regressor\n",
        "        estimator = MultiOutputRegressor(LGBMRegressor(random_state=13,subsample=0.95))\n",
        "\n",
        "        # Setting up the parameter grid I wish to test\n",
        "        param_grid = {\n",
        "             \n",
        "            'estimator__n_estimators'      : [100,110,150,180,200,250,300,350],\n",
        "            'estimator__learning_rate'     : [.001,.005,.01,.05,.1,.5],\n",
        "            'estimator__num_leaves'        : [9,10,12,14,16,18,20,22,24,26,28,30,32],\n",
        "            'estimator__max_depth'         : [2,3,4,5,6],\n",
        "            }\n",
        "\n",
        "        # Instatiating the grid search\n",
        "        grid = GridSearchCV(estimator, param_grid, n_jobs=-1, cv=5)\n",
        "\n",
        "        # Fitting Grid search to my data\n",
        "        grid.fit(X_train, y_train)\n",
        "\n",
        "        # Returning the best parameters for my data\n",
        "        return grid.best_params_\n",
        "\n",
        "\n",
        "def Grid_Search_CV_XGBR(X_train, y_train):\n",
        "\n",
        "        '''Outputs the best parameters and best score of a gridsearch over several XGBoost Regressor hyperparameters.'''\n",
        "\n",
        "        # Instantiating a XGBoost Regressor\n",
        "        estimator = MultiOutputRegressor(XGBRegressor(random_state=13))\n",
        "\n",
        "        # Setting up the parameter grid I wish to test        \n",
        "        param_grid = {\n",
        "\n",
        "             \n",
        "            'estimator__n_estimators'      : [10,50,100,110,120],\n",
        "            'estimator__learning_rate'     : [.001,.005,.01,.05,.1,.5],\n",
        "            'estimator__min_samples_split' : [2,3,4],\n",
        "            'estimator__min_samples_leaf'  : [1,2,3],\n",
        "            'estimator__max_depth'         : [2,3,4,5,6,7,8,9],\n",
        "            }\n",
        "\n",
        "        # Instatiating the grid search\n",
        "        grid = GridSearchCV(estimator, param_grid, n_jobs=-1, cv=5)\n",
        "\n",
        "        # Fitting Grid search to my data\n",
        "        grid.fit(X_train, y_train)\n",
        "\n",
        "        # Returning the best parameters for my data\n",
        "        return grid.best_params_"
      ]
    },
    {
      "cell_type": "code",
      "execution_count": null,
      "metadata": {
        "id": "AkM_ZJzHDv6E",
        "colab": {
          "base_uri": "https://localhost:8080/"
        },
        "outputId": "b26b8d12-5ab5-4008-e852-1fae05255bc6"
      },
      "outputs": [
        {
          "output_type": "stream",
          "name": "stderr",
          "text": [
            "/usr/local/lib/python3.8/dist-packages/sklearn/model_selection/_search.py:926: DataConversionWarning: A column-vector y was passed when a 1d array was expected. Please change the shape of y to (n_samples,), for example using ravel().\n",
            "  self.best_estimator_.fit(X, y, **fit_params)\n"
          ]
        },
        {
          "output_type": "execute_result",
          "data": {
            "text/plain": [
              "{'bootstrap': True,\n",
              " 'max_features': 'auto',\n",
              " 'min_samples_split': 22,\n",
              " 'n_estimators': 200}"
            ]
          },
          "metadata": {},
          "execution_count": 7
        }
      ],
      "source": [
        "Grid_Search_CV_RFR(X_train,y_train)"
      ]
    },
    {
      "cell_type": "code",
      "source": [
        "my_model_rfr = RandomForestRegressor(bootstrap='True', max_features='auto',min_samples_split=22, n_estimators=200,random_state=13)\n",
        "my_model_rfr.fit(X_train,y_train)\n",
        "my_model_rfr.score(X_test,y_test)"
      ],
      "metadata": {
        "id": "akCBfMj8uQUo",
        "colab": {
          "base_uri": "https://localhost:8080/"
        },
        "outputId": "44ad33ee-08e5-4b17-f341-bc1f9b7c78c2"
      },
      "execution_count": null,
      "outputs": [
        {
          "output_type": "stream",
          "name": "stderr",
          "text": [
            "<ipython-input-4-ef4fdc07f31d>:2: DataConversionWarning: A column-vector y was passed when a 1d array was expected. Please change the shape of y to (n_samples,), for example using ravel().\n",
            "  my_model_rfr.fit(X_train,y_train)\n"
          ]
        },
        {
          "output_type": "execute_result",
          "data": {
            "text/plain": [
              "0.6967681648154922"
            ]
          },
          "metadata": {},
          "execution_count": 4
        }
      ]
    },
    {
      "cell_type": "code",
      "source": [
        "y_pred_rfr=my_model_rfr.predict(X_test)\n",
        "rms = mean_squared_error(y_test, y_pred_rfr, squared=False)\n",
        "print(rms)"
      ],
      "metadata": {
        "colab": {
          "base_uri": "https://localhost:8080/"
        },
        "id": "EbwytrAxdQCt",
        "outputId": "fb804b6b-3cb5-4b62-dee6-9c8a0c4d01cb"
      },
      "execution_count": null,
      "outputs": [
        {
          "output_type": "stream",
          "name": "stdout",
          "text": [
            "0.2821915456865741\n"
          ]
        }
      ]
    },
    {
      "cell_type": "code",
      "source": [
        "Grid_Search_CV_LGBMR(X_train, y_train)"
      ],
      "metadata": {
        "colab": {
          "base_uri": "https://localhost:8080/"
        },
        "id": "YLvT-Z7dwled",
        "outputId": "b1e4021f-ce42-4f22-d886-1620690f9b0b"
      },
      "execution_count": null,
      "outputs": [
        {
          "output_type": "execute_result",
          "data": {
            "text/plain": [
              "{'estimator__learning_rate': 0.1,\n",
              " 'estimator__max_depth': 5,\n",
              " 'estimator__n_estimators': 300,\n",
              " 'estimator__num_leaves': 30}"
            ]
          },
          "metadata": {},
          "execution_count": 16
        }
      ]
    },
    {
      "cell_type": "code",
      "source": [
        "my_model_lgbm = MultiOutputRegressor(LGBMRegressor(learning_rate= 0.1, max_depth= 5, n_estimators=300, num_leaves=30))\n",
        "my_model_lgbm.fit(X_train,y_train)\n",
        "my_model_lgbm.score(X_test,y_test)"
      ],
      "metadata": {
        "colab": {
          "base_uri": "https://localhost:8080/"
        },
        "id": "M5IxiKB7GqgJ",
        "outputId": "6373976b-5a32-4c94-ac35-6393c8506358"
      },
      "execution_count": null,
      "outputs": [
        {
          "output_type": "execute_result",
          "data": {
            "text/plain": [
              "0.7055796384883397"
            ]
          },
          "metadata": {},
          "execution_count": 3
        }
      ]
    },
    {
      "cell_type": "code",
      "source": [
        "y_pred_lgbm=my_model_lgbm.predict(X_test)\n",
        "rms = mean_squared_error(y_test, y_pred_lgbm, squared=False)\n",
        "print(rms)"
      ],
      "metadata": {
        "colab": {
          "base_uri": "https://localhost:8080/"
        },
        "id": "n4d-erMddhWM",
        "outputId": "02a94c2d-9ae1-4638-c18a-af34b4753dd7"
      },
      "execution_count": null,
      "outputs": [
        {
          "output_type": "stream",
          "name": "stdout",
          "text": [
            "0.2780612828218685\n"
          ]
        }
      ]
    },
    {
      "cell_type": "code",
      "source": [
        "residuals_lgbm = y_test-y_pred_lgbm\n",
        "\n",
        "# creating our subplot\n",
        "plt.subplots(2, 1, figsize=(13, 13))\n",
        "\n",
        "# Visualizing distributions of residuals of predicted Magnitude on subplot 2\n",
        "plt.subplot(1, 1, 1)\n",
        "plt.scatter(y_pred_lgbm[:,0],residuals_lgbm.iloc[:,])\n",
        "plt.xlabel('Predicted Magnitude')\n",
        "plt.ylabel('Residuals')\n",
        "plt.hlines(0,0,7.5,color='r',label='Actual Magnitude')\n",
        "plt.xlim((4.00,6.5))\n",
        "plt.title('Residual Graph of Predicted Magnitude')\n",
        "plt.legend()\n",
        "\n",
        "plt.show()"
      ],
      "metadata": {
        "colab": {
          "base_uri": "https://localhost:8080/",
          "height": 785
        },
        "id": "aFrHKaqSg77w",
        "outputId": "1c3c5592-2326-4eda-87b8-d70490408765"
      },
      "execution_count": null,
      "outputs": [
        {
          "output_type": "display_data",
          "data": {
            "text/plain": [
              "<Figure size 936x936 with 1 Axes>"
            ],
            "image/png": "[encoded data removed]"
          },
          "metadata": {
            "needs_background": "light"
          }
        }
      ]
    },
    {
      "cell_type": "code",
      "source": [
        "y_test1 = y_test.values\n",
        "\n",
        "plt.figure(figsize=(10,10))\n",
        "plt.scatter(y_test1, y_pred_lgbm, c='crimson')\n",
        "plt.yscale('log')\n",
        "plt.xscale('log')\n",
        "\n",
        "p1 = max(max(y_pred_lgbm), max(y_test1))\n",
        "p2 = min(min(y_pred_lgbm), min(y_test1))\n",
        "plt.plot([p1, p2], [p1, p2], 'b-')\n",
        "plt.xlabel('True Values', fontsize=15)\n",
        "plt.ylabel('Predictions', fontsize=15)\n",
        "plt.axis('equal')\n",
        "plt.show()"
      ],
      "metadata": {
        "colab": {
          "base_uri": "https://localhost:8080/",
          "height": 613
        },
        "id": "YNzvNT9pEDJH",
        "outputId": "02e61bbf-ba7f-490f-8584-ca121de70eed"
      },
      "execution_count": null,
      "outputs": [
        {
          "output_type": "display_data",
          "data": {
            "text/plain": [
              "<Figure size 720x720 with 1 Axes>"
            ],
            "image/png": "[encoded data removed]"
          },
          "metadata": {
            "needs_background": "light"
          }
        }
      ]
    },
    {
      "cell_type": "code",
      "source": [
        "# Running a grid search for a XGBoost Regressor\n",
        "Grid_Search_CV_XGBR(X_train, y_train)"
      ],
      "metadata": {
        "colab": {
          "base_uri": "https://localhost:8080/"
        },
        "id": "drhyB-hUHlry",
        "outputId": "976cf948-f9b8-4c50-be13-ec621ff7ce72"
      },
      "execution_count": null,
      "outputs": [
        {
          "output_type": "stream",
          "name": "stdout",
          "text": [
            "[10:36:01] WARNING: /workspace/src/objective/regression_obj.cu:152: reg:linear is now deprecated in favor of reg:squarederror.\n"
          ]
        },
        {
          "output_type": "execute_result",
          "data": {
            "text/plain": [
              "{'estimator__learning_rate': 0.1,\n",
              " 'estimator__max_depth': 8,\n",
              " 'estimator__min_samples_leaf': 1,\n",
              " 'estimator__min_samples_split': 2,\n",
              " 'estimator__n_estimators': 110}"
            ]
          },
          "metadata": {},
          "execution_count": 6
        }
      ]
    },
    {
      "cell_type": "code",
      "source": [
        "my_model_xgb = MultiOutputRegressor(XGBRegressor(learning_rate= 0.1,max_depth= 8,min_samples_leaf= 1,min_samples_split= 2,n_estimators= 110,random_state=13))\n",
        "my_model_xgb.fit(X_train,y_train)\n",
        "my_model_xgb.score(X_test,y_test)"
      ],
      "metadata": {
        "colab": {
          "base_uri": "https://localhost:8080/"
        },
        "id": "2d6SfoxUtjA7",
        "outputId": "208947d6-06eb-4e9c-9128-e64a256ebef9"
      },
      "execution_count": null,
      "outputs": [
        {
          "output_type": "stream",
          "name": "stdout",
          "text": [
            "[14:39:57] WARNING: /workspace/src/objective/regression_obj.cu:152: reg:linear is now deprecated in favor of reg:squarederror.\n"
          ]
        },
        {
          "output_type": "execute_result",
          "data": {
            "text/plain": [
              "0.7021055196341983"
            ]
          },
          "metadata": {},
          "execution_count": 11
        }
      ]
    },
    {
      "cell_type": "code",
      "source": [
        "y_pred_xgb=my_model_xgb.predict(X_test)\n",
        "rms = mean_squared_error(y_test, y_pred_xgb, squared=False)\n",
        "print(rms)"
      ],
      "metadata": {
        "colab": {
          "base_uri": "https://localhost:8080/"
        },
        "id": "cls-OyffeSQF",
        "outputId": "cea027e1-4f24-431a-8c35-4f9a44aaab44"
      },
      "execution_count": null,
      "outputs": [
        {
          "output_type": "stream",
          "name": "stdout",
          "text": [
            "0.27969701363801247\n"
          ]
        }
      ]
    },
    {
      "cell_type": "code",
      "source": [
        "# Running a grid search for a Gradient Boost Regressor\n",
        "warnings.filterwarnings(\"ignore\")\n",
        "Grid_Search_CV_GBR(X_train, y_train)"
      ],
      "metadata": {
        "colab": {
          "base_uri": "https://localhost:8080/"
        },
        "id": "iHz1fbdDuqde",
        "outputId": "8c55ab90-31c1-451e-e66d-b7fe028d9c63"
      },
      "execution_count": null,
      "outputs": [
        {
          "output_type": "execute_result",
          "data": {
            "text/plain": [
              "{'estimator__learning_rate': 0.05,\n",
              " 'estimator__max_depth': 6,\n",
              " 'estimator__min_samples_leaf': 6,\n",
              " 'estimator__min_samples_split': 2,\n",
              " 'estimator__n_estimators': 500}"
            ]
          },
          "metadata": {},
          "execution_count": 4
        }
      ]
    },
    {
      "cell_type": "code",
      "source": [
        "my_model_gbr = MultiOutputRegressor(GradientBoostingRegressor(learning_rate= 0.05, max_depth= 6, min_samples_leaf= 6, min_samples_split= 2, n_estimators= 500))\n",
        "my_model_gbr.fit(X_train,y_train)\n",
        "my_model_gbr.score(X_test,y_test)"
      ],
      "metadata": {
        "colab": {
          "base_uri": "https://localhost:8080/"
        },
        "id": "mkvLRkYoVKZ_",
        "outputId": "7fa4d228-d998-471d-cc63-6fe602bf5fb2"
      },
      "execution_count": null,
      "outputs": [
        {
          "output_type": "execute_result",
          "data": {
            "text/plain": [
              "0.7037272024032684"
            ]
          },
          "metadata": {},
          "execution_count": 5
        }
      ]
    },
    {
      "cell_type": "code",
      "source": [
        "y_pred_gbr=my_model_gbr.predict(X_test)\n",
        "rms = mean_squared_error(y_test, y_pred_gbr, squared=False)\n",
        "print(rms)"
      ],
      "metadata": {
        "colab": {
          "base_uri": "https://localhost:8080/"
        },
        "id": "sPKs6hAaerIN",
        "outputId": "6c4be791-e041-4d20-e42e-27d1afad9495"
      },
      "execution_count": null,
      "outputs": [
        {
          "output_type": "stream",
          "name": "stdout",
          "text": [
            "0.27893437183288533\n"
          ]
        }
      ]
    }
  ],
  "metadata": {
    "colab": {
      "provenance": [],
      "include_colab_link": true
    },
    "kernelspec": {
      "display_name": "Python 3",
      "name": "python3"
    },
    "language_info": {
      "name": "python"
    }
  },
  "nbformat": 4,
  "nbformat_minor": 0
}